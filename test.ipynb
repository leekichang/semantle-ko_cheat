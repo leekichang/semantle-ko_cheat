{
 "cells": [
  {
   "cell_type": "code",
   "execution_count": 1,
   "metadata": {},
   "outputs": [],
   "source": [
    "import pickle\n",
    "import word2vec\n",
    "import numpy as np\n",
    "\n",
    "with open('data/valid_nearest.pkl', 'rb') as f:\n",
    "    words = pickle.load(f)"
   ]
  },
  {
   "cell_type": "code",
   "execution_count": 2,
   "metadata": {},
   "outputs": [],
   "source": [
    "f = open('./data/secrets.txt', encoding='utf-8')\n",
    "secs = f.readlines()\n",
    "f.close()\n",
    "sec_vec = ([], [])\n",
    "for w in secs:\n",
    "    sec_vec[0].append(w.strip()) \n",
    "    sec_vec[1].append(words[1][words[0].index(w.strip())]) \n"
   ]
  },
  {
   "cell_type": "code",
   "execution_count": 9,
   "metadata": {},
   "outputs": [
    {
     "name": "stdout",
     "output_type": "stream",
     "text": [
      "미니\n",
      "아래층\n",
      "박스\n",
      "경영\n"
     ]
    }
   ],
   "source": [
    "in_word = '식당'# input('Enter a word: ')\n",
    "sim = 32.47 #float(input(\"Enter similarity: \"))\n",
    "\n",
    "input_vec = sec_vec[1][sec_vec[0].index(in_word)]\n",
    "sim_mat = np.ndarray(4650)\n",
    "\n",
    "for idx, word in enumerate(sec_vec[0]):\n",
    "    sim_mat[idx]=word2vec.cosine_similarity(np.array(sec_vec[1][sec_vec[0].index(word)]), input_vec)*100\n",
    "    \n",
    "gaps = abs(sim_mat-sim)\n",
    "idxs = np.where(gaps<0.01)[0]\n",
    "for idx in idxs:\n",
    "    print(sec_vec[0][idx])\n",
    "    "
   ]
  }
 ],
 "metadata": {
  "kernelspec": {
   "display_name": "Python 3.9.13 ('venv': venv)",
   "language": "python",
   "name": "python3"
  },
  "language_info": {
   "codemirror_mode": {
    "name": "ipython",
    "version": 3
   },
   "file_extension": ".py",
   "mimetype": "text/x-python",
   "name": "python",
   "nbconvert_exporter": "python",
   "pygments_lexer": "ipython3",
   "version": "3.9.13"
  },
  "orig_nbformat": 4,
  "vscode": {
   "interpreter": {
    "hash": "21a67fddd12e1efdbd006716a30ced9b77efa04dd04595de11e8afdf2cd94d51"
   }
  }
 },
 "nbformat": 4,
 "nbformat_minor": 2
}
